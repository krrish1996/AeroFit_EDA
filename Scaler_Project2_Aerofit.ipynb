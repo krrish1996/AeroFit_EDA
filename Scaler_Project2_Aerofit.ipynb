{
 "tells": [
  {
   "cell_type": "code",
   "execution_count": 88,
   "id": "1561176f",
   "metadata": {},
   "outputs": [],
   "source": [
    "import numpy as np\n",
    "import seaborn as sns\n",
    "import pandas as pd\n",
    "import matplotlib.pyplot as plt\n",
    "from scipy import stats"
   ]
  },
  {
   "cell_type": "code",
   "execution_count": 2,
   "id": "3628e15b",
   "metadata": {},
   "outputs": [],
   "source": [
    "df = pd.read_csv('aerofit_treadmill.csv')"
   ]
  },
  {
   "cell_type": "markdown",
   "id": "3e13168c",
   "metadata": {},
   "source": [
    "### Product Portfolio:\n",
    "\n",
    "1. The KP281 is an entry-level treadmill that sells for $1,500.\n",
    "\n",
    "2. The KP481 is for mid-level runners that sell for $1,750.\n",
    "\n",
    "3. The KP781 treadmill is having advanced features that sell for $2,500."
   ]
  },
  {
   "cell_type": "code",
   "execution_count": 4,
   "id": "e86fe5d2",
   "metadata": {},
   "outputs": [
    {
     "data": {
      "text/html": [
       "<div>\n",
       "<style scoped>\n",
       "    .dataframe tbody tr th:only-of-type {\n",
       "        vertical-align: middle;\n",
       "    }\n",
       "\n",
       "    .dataframe tbody tr th {\n",
       "        vertical-align: top;\n",
       "    }\n",
       "\n",
       "    .dataframe thead th {\n",
       "        text-align: right;\n",
       "    }\n",
       "</style>\n",
       "<table border=\"1\" class=\"dataframe\">\n",
       "  <thead>\n",
       "    <tr style=\"text-align: right;\">\n",
       "      <th></th>\n",
       "      <th>Product</th>\n",
       "      <th>Age</th>\n",
       "      <th>Gender</th>\n",
       "      <th>Education</th>\n",
       "      <th>MaritalStatus</th>\n",
       "      <th>Usage</th>\n",
       "      <th>Fitness</th>\n",
       "      <th>Income</th>\n",
       "      <th>Miles</th>\n",
       "    </tr>\n",
       "  </thead>\n",
       "  <tbody>\n",
       "    <tr>\n",
       "      <th>0</th>\n",
       "      <td>KP281</td>\n",
       "      <td>18</td>\n",
       "      <td>Male</td>\n",
       "      <td>14</td>\n",
       "      <td>Single</td>\n",
       "      <td>3</td>\n",
       "      <td>4</td>\n",
       "      <td>29562</td>\n",
       "      <td>112</td>\n",
       "    </tr>\n",
       "    <tr>\n",
       "      <th>1</th>\n",
       "      <td>KP281</td>\n",
       "      <td>19</td>\n",
       "      <td>Male</td>\n",
       "      <td>15</td>\n",
       "      <td>Single</td>\n",
       "      <td>2</td>\n",
       "      <td>3</td>\n",
       "      <td>31836</td>\n",
       "      <td>75</td>\n",
       "    </tr>\n",
       "    <tr>\n",
       "      <th>2</th>\n",
       "      <td>KP281</td>\n",
       "      <td>19</td>\n",
       "      <td>Female</td>\n",
       "      <td>14</td>\n",
       "      <td>Partnered</td>\n",
       "      <td>4</td>\n",
       "      <td>3</td>\n",
       "      <td>30699</td>\n",
       "      <td>66</td>\n",
       "    </tr>\n",
       "    <tr>\n",
       "      <th>3</th>\n",
       "      <td>KP281</td>\n",
       "      <td>19</td>\n",
       "      <td>Male</td>\n",
       "      <td>12</td>\n",
       "      <td>Single</td>\n",
       "      <td>3</td>\n",
       "      <td>3</td>\n",
       "      <td>32973</td>\n",
       "      <td>85</td>\n",
       "    </tr>\n",
       "    <tr>\n",
       "      <th>4</th>\n",
       "      <td>KP281</td>\n",
       "      <td>20</td>\n",
       "      <td>Male</td>\n",
       "      <td>13</td>\n",
       "      <td>Partnered</td>\n",
       "      <td>4</td>\n",
       "      <td>2</td>\n",
       "      <td>35247</td>\n",
       "      <td>47</td>\n",
       "    </tr>\n",
       "  </tbody>\n",
       "</table>\n",
       "</div>"
      ],
      "text/plain": [
       "  Product  Age  Gender  Education MaritalStatus  Usage  Fitness  Income  Miles\n",
       "0   KP281   18    Male         14        Single      3        4   29562    112\n",
       "1   KP281   19    Male         15        Single      2        3   31836     75\n",
       "2   KP281   19  Female         14     Partnered      4        3   30699     66\n",
       "3   KP281   19    Male         12        Single      3        3   32973     85\n",
       "4   KP281   20    Male         13     Partnered      4        2   35247     47"
      ]
     },
     "execution_count": 4,
     "metadata": {},
     "output_type": "execute_result"
    }
   ],
   "source": [
    "df.head()"
   ]
  },
  {
   "cell_type": "code",
   "execution_count": 159,
   "id": "40433296",
   "metadata": {},
   "outputs": [
    {
     "data": {
      "text/plain": [
       "Product          0\n",
       "Age              0\n",
       "Gender           0\n",
       "Education        0\n",
       "MaritalStatus    0\n",
       "Usage            0\n",
       "Fitness          0\n",
       "Income           0\n",
       "Miles            0\n",
       "dtype: int64"
      ]
     },
     "execution_count": 159,
     "metadata": {},
     "output_type": "execute_result"
    }
   ],
   "source": [
    "df.isna().sum()"
   ]
  },
  {
   "cell_type": "markdown",
   "id": "5221ee8c",
   "metadata": {},
   "source": [
    "### Sales count of each product"
   ]
  },
  {
   "cell_type": "code",
   "execution_count": 160,
   "id": "ac348f7e",
   "metadata": {},
   "outputs": [
    {
     "data": {
      "text/plain": [
       "KP281    80\n",
       "KP481    60\n",
       "KP781    40\n",
       "Name: Product, dtype: int64"
      ]
     },
     "execution_count": 160,
     "metadata": {},
     "output_type": "execute_result"
    }
   ],
   "source": [
    "df['Product'].value_counts()"
   ]
  },
  {
   "cell_type": "code",
   "execution_count": 171,
   "id": "31de585a",
   "metadata": {
    "scrolled": true
   },
   "outputs": [
    {
     "data": {
      "image/png": "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\n",
      "text/plain": [
       "<Figure size 432x288 with 1 Axes>"
      ]
     },
     "metadata": {
      "needs_background": "light"
     },
     "output_type": "display_data"
    }
   ],
   "source": [
    "sns.countplot(x = df['Product'])\n",
    "plt.show()"
   ]
  },
  {
   "cell_type": "markdown",
   "id": "32008dba",
   "metadata": {},
   "source": [
    "### Product purchase w.r.t Income"
   ]
  },
  {
   "cell_type": "code",
   "execution_count": 177,
   "id": "dc9cc0d2",
   "metadata": {},
   "outputs": [
    {
     "name": "stdout",
     "output_type": "stream",
     "text": [
      "29562 104581\n"
     ]
    }
   ],
   "source": [
    "print(df['Income'].min(), df['Income'].max())"
   ]
  },
  {
   "cell_type": "code",
   "execution_count": null,
   "id": "4b23e624",
   "metadata": {},
   "outputs": [],
   "source": [
    ",pd.cut(df['Age'], bins = np.arange(15, 55, 5), right = False)]"
   ]
  },
  {
   "cell_type": "code",
   "execution_count": 191,
   "id": "b1b99e7a",
   "metadata": {},
   "outputs": [
    {
     "data": {
      "text/html": [
       "<div>\n",
       "<style scoped>\n",
       "    .dataframe tbody tr th:only-of-type {\n",
       "        vertical-align: middle;\n",
       "    }\n",
       "\n",
       "    .dataframe tbody tr th {\n",
       "        vertical-align: top;\n",
       "    }\n",
       "\n",
       "    .dataframe thead th {\n",
       "        text-align: right;\n",
       "    }\n",
       "</style>\n",
       "<table border=\"1\" class=\"dataframe\">\n",
       "  <thead>\n",
       "    <tr style=\"text-align: right;\">\n",
       "      <th>Product</th>\n",
       "      <th>KP281</th>\n",
       "      <th>KP481</th>\n",
       "      <th>KP781</th>\n",
       "      <th>All</th>\n",
       "    </tr>\n",
       "    <tr>\n",
       "      <th>Income</th>\n",
       "      <th></th>\n",
       "      <th></th>\n",
       "      <th></th>\n",
       "      <th></th>\n",
       "    </tr>\n",
       "  </thead>\n",
       "  <tbody>\n",
       "    <tr>\n",
       "      <th>[20000, 30000)</th>\n",
       "      <td>1</td>\n",
       "      <td>0</td>\n",
       "      <td>0</td>\n",
       "      <td>1</td>\n",
       "    </tr>\n",
       "    <tr>\n",
       "      <th>[30000, 40000)</th>\n",
       "      <td>22</td>\n",
       "      <td>9</td>\n",
       "      <td>0</td>\n",
       "      <td>31</td>\n",
       "    </tr>\n",
       "    <tr>\n",
       "      <th>[40000, 50000)</th>\n",
       "      <td>25</td>\n",
       "      <td>21</td>\n",
       "      <td>5</td>\n",
       "      <td>51</td>\n",
       "    </tr>\n",
       "    <tr>\n",
       "      <th>[50000, 60000)</th>\n",
       "      <td>26</td>\n",
       "      <td>23</td>\n",
       "      <td>6</td>\n",
       "      <td>55</td>\n",
       "    </tr>\n",
       "    <tr>\n",
       "      <th>[60000, 70000)</th>\n",
       "      <td>6</td>\n",
       "      <td>7</td>\n",
       "      <td>6</td>\n",
       "      <td>19</td>\n",
       "    </tr>\n",
       "    <tr>\n",
       "      <th>[70000, 80000)</th>\n",
       "      <td>0</td>\n",
       "      <td>0</td>\n",
       "      <td>4</td>\n",
       "      <td>4</td>\n",
       "    </tr>\n",
       "    <tr>\n",
       "      <th>[80000, 90000)</th>\n",
       "      <td>0</td>\n",
       "      <td>0</td>\n",
       "      <td>7</td>\n",
       "      <td>7</td>\n",
       "    </tr>\n",
       "    <tr>\n",
       "      <th>[90000, 100000)</th>\n",
       "      <td>0</td>\n",
       "      <td>0</td>\n",
       "      <td>9</td>\n",
       "      <td>9</td>\n",
       "    </tr>\n",
       "    <tr>\n",
       "      <th>All</th>\n",
       "      <td>80</td>\n",
       "      <td>60</td>\n",
       "      <td>37</td>\n",
       "      <td>177</td>\n",
       "    </tr>\n",
       "  </tbody>\n",
       "</table>\n",
       "</div>"
      ],
      "text/plain": [
       "Product          KP281  KP481  KP781  All\n",
       "Income                                   \n",
       "[20000, 30000)       1      0      0    1\n",
       "[30000, 40000)      22      9      0   31\n",
       "[40000, 50000)      25     21      5   51\n",
       "[50000, 60000)      26     23      6   55\n",
       "[60000, 70000)       6      7      6   19\n",
       "[70000, 80000)       0      0      4    4\n",
       "[80000, 90000)       0      0      7    7\n",
       "[90000, 100000)      0      0      9    9\n",
       "All                 80     60     37  177"
      ]
     },
     "execution_count": 191,
     "metadata": {},
     "output_type": "execute_result"
    }
   ],
   "source": [
    "pd.crosstab(pd.cut(df['Income'], bins=np.arange(20000, 110000, 10000), right = False),df['Product'], margins = True)"
   ]
  },
  {
   "cell_type": "code",
   "execution_count": 187,
   "id": "e481e321",
   "metadata": {
    "scrolled": true
   },
   "outputs": [
    {
     "data": {
      "text/plain": [
       "<AxesSubplot:xlabel='Income', ylabel='Count'>"
      ]
     },
     "execution_count": 187,
     "metadata": {},
     "output_type": "execute_result"
    },
    {
     "data": {
      "image/png": "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\n",
      "text/plain": [
       "<Figure size 432x288 with 1 Axes>"
      ]
     },
     "metadata": {
      "needs_background": "light"
     },
     "output_type": "display_data"
    }
   ],
   "source": [
    "sns.histplot(data = df, x = 'Income', hue = 'Product', bins=np.arange(20000, 110000, 10000), element=\"step\")"
   ]
  },
  {
   "cell_type": "markdown",
   "id": "8c6a7310",
   "metadata": {},
   "source": [
    "### Fitness w.r.t gender"
   ]
  },
  {
   "cell_type": "code",
   "execution_count": 134,
   "id": "b2955646",
   "metadata": {},
   "outputs": [
    {
     "data": {
      "text/plain": [
       "array([4, 3, 2, 1, 5], dtype=int64)"
      ]
     },
     "execution_count": 134,
     "metadata": {},
     "output_type": "execute_result"
    }
   ],
   "source": [
    "df['Fitness'].unique()"
   ]
  },
  {
   "cell_type": "code",
   "execution_count": 135,
   "id": "5195cf2e",
   "metadata": {},
   "outputs": [
    {
     "data": {
      "text/plain": [
       "3    97\n",
       "5    31\n",
       "2    26\n",
       "4    24\n",
       "1     2\n",
       "Name: Fitness, dtype: int64"
      ]
     },
     "execution_count": 135,
     "metadata": {},
     "output_type": "execute_result"
    }
   ],
   "source": [
    "df['Fitness'].value_counts()"
   ]
  },
  {
   "cell_type": "code",
   "execution_count": 210,
   "id": "f5d5b94d",
   "metadata": {},
   "outputs": [
    {
     "data": {
      "text/plain": [
       "Male      104\n",
       "Female     76\n",
       "Name: Gender, dtype: int64"
      ]
     },
     "execution_count": 210,
     "metadata": {},
     "output_type": "execute_result"
    }
   ],
   "source": [
    "df['Gender'].value_counts()"
   ]
  },
  {
   "cell_type": "code",
   "execution_count": 199,
   "id": "12635db4",
   "metadata": {},
   "outputs": [
    {
     "data": {
      "text/html": [
       "<div>\n",
       "<style scoped>\n",
       "    .dataframe tbody tr th:only-of-type {\n",
       "        vertical-align: middle;\n",
       "    }\n",
       "\n",
       "    .dataframe tbody tr th {\n",
       "        vertical-align: top;\n",
       "    }\n",
       "\n",
       "    .dataframe thead th {\n",
       "        text-align: right;\n",
       "    }\n",
       "</style>\n",
       "<table border=\"1\" class=\"dataframe\">\n",
       "  <thead>\n",
       "    <tr style=\"text-align: right;\">\n",
       "      <th>Gender</th>\n",
       "      <th>Female</th>\n",
       "      <th>Male</th>\n",
       "      <th>All</th>\n",
       "    </tr>\n",
       "    <tr>\n",
       "      <th>Fitness</th>\n",
       "      <th></th>\n",
       "      <th></th>\n",
       "      <th></th>\n",
       "    </tr>\n",
       "  </thead>\n",
       "  <tbody>\n",
       "    <tr>\n",
       "      <th>1</th>\n",
       "      <td>1</td>\n",
       "      <td>1</td>\n",
       "      <td>2</td>\n",
       "    </tr>\n",
       "    <tr>\n",
       "      <th>2</th>\n",
       "      <td>16</td>\n",
       "      <td>10</td>\n",
       "      <td>26</td>\n",
       "    </tr>\n",
       "    <tr>\n",
       "      <th>3</th>\n",
       "      <td>45</td>\n",
       "      <td>52</td>\n",
       "      <td>97</td>\n",
       "    </tr>\n",
       "    <tr>\n",
       "      <th>4</th>\n",
       "      <td>8</td>\n",
       "      <td>16</td>\n",
       "      <td>24</td>\n",
       "    </tr>\n",
       "    <tr>\n",
       "      <th>5</th>\n",
       "      <td>6</td>\n",
       "      <td>25</td>\n",
       "      <td>31</td>\n",
       "    </tr>\n",
       "    <tr>\n",
       "      <th>All</th>\n",
       "      <td>76</td>\n",
       "      <td>104</td>\n",
       "      <td>180</td>\n",
       "    </tr>\n",
       "  </tbody>\n",
       "</table>\n",
       "</div>"
      ],
      "text/plain": [
       "Gender   Female  Male  All\n",
       "Fitness                   \n",
       "1             1     1    2\n",
       "2            16    10   26\n",
       "3            45    52   97\n",
       "4             8    16   24\n",
       "5             6    25   31\n",
       "All          76   104  180"
      ]
     },
     "execution_count": 199,
     "metadata": {},
     "output_type": "execute_result"
    }
   ],
   "source": [
    "pd.crosstab(df['Fitness'], df['Gender'], margins = True)"
   ]
  },
  {
   "cell_type": "code",
   "execution_count": 112,
   "id": "2f017ae5",
   "metadata": {
    "scrolled": true
   },
   "outputs": [
    {
     "name": "stdout",
     "output_type": "stream",
     "text": [
      "Fitness  Gender\n",
      "1        Male      0.009615\n",
      "2        Male      0.096154\n",
      "3        Male      0.500000\n",
      "4        Male      0.153846\n",
      "5        Male      0.240385\n",
      "Name: Gender, dtype: float64 Fitness  Gender\n",
      "1        Female    0.013158\n",
      "2        Female    0.210526\n",
      "3        Female    0.592105\n",
      "4        Female    0.105263\n",
      "5        Female    0.078947\n",
      "Name: Gender, dtype: float64\n"
     ]
    }
   ],
   "source": [
    "print(df[df['Gender'] == 'Male'].groupby('Fitness')['Gender'].value_counts()/104,\n",
    "      df[df['Gender'] == 'Female'].groupby('Fitness')['Gender'].value_counts()/76)"
   ]
  },
  {
   "cell_type": "markdown",
   "id": "f7e8bfae",
   "metadata": {},
   "source": [
    "### Fitness w.r.t marital status"
   ]
  },
  {
   "cell_type": "code",
   "execution_count": 161,
   "id": "2485ce0e",
   "metadata": {
    "scrolled": false
   },
   "outputs": [
    {
     "data": {
      "text/plain": [
       "Partnered    107\n",
       "Single        73\n",
       "Name: MaritalStatus, dtype: int64"
      ]
     },
     "execution_count": 161,
     "metadata": {},
     "output_type": "execute_result"
    }
   ],
   "source": [
    "df['MaritalStatus'].value_counts()"
   ]
  },
  {
   "cell_type": "code",
   "execution_count": 168,
   "id": "196ce69f",
   "metadata": {},
   "outputs": [
    {
     "data": {
      "text/html": [
       "<div>\n",
       "<style scoped>\n",
       "    .dataframe tbody tr th:only-of-type {\n",
       "        vertical-align: middle;\n",
       "    }\n",
       "\n",
       "    .dataframe tbody tr th {\n",
       "        vertical-align: top;\n",
       "    }\n",
       "\n",
       "    .dataframe thead th {\n",
       "        text-align: right;\n",
       "    }\n",
       "</style>\n",
       "<table border=\"1\" class=\"dataframe\">\n",
       "  <thead>\n",
       "    <tr style=\"text-align: right;\">\n",
       "      <th>MaritalStatus</th>\n",
       "      <th>Partnered</th>\n",
       "      <th>Single</th>\n",
       "      <th>All</th>\n",
       "    </tr>\n",
       "    <tr>\n",
       "      <th>Fitness</th>\n",
       "      <th></th>\n",
       "      <th></th>\n",
       "      <th></th>\n",
       "    </tr>\n",
       "  </thead>\n",
       "  <tbody>\n",
       "    <tr>\n",
       "      <th>1</th>\n",
       "      <td>1</td>\n",
       "      <td>1</td>\n",
       "      <td>2</td>\n",
       "    </tr>\n",
       "    <tr>\n",
       "      <th>2</th>\n",
       "      <td>18</td>\n",
       "      <td>8</td>\n",
       "      <td>26</td>\n",
       "    </tr>\n",
       "    <tr>\n",
       "      <th>3</th>\n",
       "      <td>57</td>\n",
       "      <td>40</td>\n",
       "      <td>97</td>\n",
       "    </tr>\n",
       "    <tr>\n",
       "      <th>4</th>\n",
       "      <td>13</td>\n",
       "      <td>11</td>\n",
       "      <td>24</td>\n",
       "    </tr>\n",
       "    <tr>\n",
       "      <th>5</th>\n",
       "      <td>18</td>\n",
       "      <td>13</td>\n",
       "      <td>31</td>\n",
       "    </tr>\n",
       "    <tr>\n",
       "      <th>All</th>\n",
       "      <td>107</td>\n",
       "      <td>73</td>\n",
       "      <td>180</td>\n",
       "    </tr>\n",
       "  </tbody>\n",
       "</table>\n",
       "</div>"
      ],
      "text/plain": [
       "MaritalStatus  Partnered  Single  All\n",
       "Fitness                              \n",
       "1                      1       1    2\n",
       "2                     18       8   26\n",
       "3                     57      40   97\n",
       "4                     13      11   24\n",
       "5                     18      13   31\n",
       "All                  107      73  180"
      ]
     },
     "execution_count": 168,
     "metadata": {},
     "output_type": "execute_result"
    }
   ],
   "source": [
    "pd.crosstab(df['Fitness'], df['MaritalStatus'], margins = True)"
   ]
  },
  {
   "cell_type": "code",
   "execution_count": 162,
   "id": "dd29cfad",
   "metadata": {},
   "outputs": [
    {
     "name": "stdout",
     "output_type": "stream",
     "text": [
      "Fitness  MaritalStatus\n",
      "1        Partnered        0.009346\n",
      "2        Partnered        0.168224\n",
      "3        Partnered        0.532710\n",
      "4        Partnered        0.121495\n",
      "5        Partnered        0.168224\n",
      "Name: MaritalStatus, dtype: float64 Fitness  MaritalStatus\n",
      "1        Single           0.013699\n",
      "2        Single           0.109589\n",
      "3        Single           0.547945\n",
      "4        Single           0.150685\n",
      "5        Single           0.178082\n",
      "Name: MaritalStatus, dtype: float64\n"
     ]
    }
   ],
   "source": [
    "print(df[df['MaritalStatus'] == 'Partnered'].groupby('Fitness')['MaritalStatus'].value_counts()/107,\n",
    "      df[df['MaritalStatus'] == 'Single'].groupby('Fitness')['MaritalStatus'].value_counts()/73)"
   ]
  },
  {
   "cell_type": "markdown",
   "id": "156da9c2",
   "metadata": {},
   "source": [
    "### Product purchase w.r.t age"
   ]
  },
  {
   "cell_type": "code",
   "execution_count": 164,
   "id": "27b50880",
   "metadata": {
    "scrolled": false
   },
   "outputs": [
    {
     "data": {
      "text/html": [
       "<div>\n",
       "<style scoped>\n",
       "    .dataframe tbody tr th:only-of-type {\n",
       "        vertical-align: middle;\n",
       "    }\n",
       "\n",
       "    .dataframe tbody tr th {\n",
       "        vertical-align: top;\n",
       "    }\n",
       "\n",
       "    .dataframe thead th {\n",
       "        text-align: right;\n",
       "    }\n",
       "</style>\n",
       "<table border=\"1\" class=\"dataframe\">\n",
       "  <thead>\n",
       "    <tr style=\"text-align: right;\">\n",
       "      <th>Product</th>\n",
       "      <th>KP281</th>\n",
       "      <th>KP481</th>\n",
       "      <th>KP781</th>\n",
       "      <th>All</th>\n",
       "    </tr>\n",
       "    <tr>\n",
       "      <th>Age</th>\n",
       "      <th></th>\n",
       "      <th></th>\n",
       "      <th></th>\n",
       "      <th></th>\n",
       "    </tr>\n",
       "  </thead>\n",
       "  <tbody>\n",
       "    <tr>\n",
       "      <th>[15, 20)</th>\n",
       "      <td>4</td>\n",
       "      <td>1</td>\n",
       "      <td>0</td>\n",
       "      <td>5</td>\n",
       "    </tr>\n",
       "    <tr>\n",
       "      <th>[20, 25)</th>\n",
       "      <td>23</td>\n",
       "      <td>16</td>\n",
       "      <td>10</td>\n",
       "      <td>49</td>\n",
       "    </tr>\n",
       "    <tr>\n",
       "      <th>[25, 30)</th>\n",
       "      <td>26</td>\n",
       "      <td>16</td>\n",
       "      <td>17</td>\n",
       "      <td>59</td>\n",
       "    </tr>\n",
       "    <tr>\n",
       "      <th>[30, 35)</th>\n",
       "      <td>10</td>\n",
       "      <td>15</td>\n",
       "      <td>6</td>\n",
       "      <td>31</td>\n",
       "    </tr>\n",
       "    <tr>\n",
       "      <th>[35, 40)</th>\n",
       "      <td>10</td>\n",
       "      <td>7</td>\n",
       "      <td>2</td>\n",
       "      <td>19</td>\n",
       "    </tr>\n",
       "    <tr>\n",
       "      <th>[40, 45)</th>\n",
       "      <td>4</td>\n",
       "      <td>3</td>\n",
       "      <td>2</td>\n",
       "      <td>9</td>\n",
       "    </tr>\n",
       "    <tr>\n",
       "      <th>[45, 50)</th>\n",
       "      <td>2</td>\n",
       "      <td>2</td>\n",
       "      <td>3</td>\n",
       "      <td>7</td>\n",
       "    </tr>\n",
       "    <tr>\n",
       "      <th>All</th>\n",
       "      <td>79</td>\n",
       "      <td>60</td>\n",
       "      <td>40</td>\n",
       "      <td>179</td>\n",
       "    </tr>\n",
       "  </tbody>\n",
       "</table>\n",
       "</div>"
      ],
      "text/plain": [
       "Product   KP281  KP481  KP781  All\n",
       "Age                               \n",
       "[15, 20)      4      1      0    5\n",
       "[20, 25)     23     16     10   49\n",
       "[25, 30)     26     16     17   59\n",
       "[30, 35)     10     15      6   31\n",
       "[35, 40)     10      7      2   19\n",
       "[40, 45)      4      3      2    9\n",
       "[45, 50)      2      2      3    7\n",
       "All          79     60     40  179"
      ]
     },
     "execution_count": 164,
     "metadata": {},
     "output_type": "execute_result"
    }
   ],
   "source": [
    "pd.crosstab(pd.cut(df['Age'], bins = np.arange(15, 55, 5), right = False), df['Product'], margins = True)"
   ]
  },
  {
   "cell_type": "code",
   "execution_count": 157,
   "id": "f8ce2fee",
   "metadata": {
    "scrolled": true
   },
   "outputs": [
    {
     "data": {
      "text/plain": [
       "<AxesSubplot:xlabel='Age', ylabel='Count'>"
      ]
     },
     "execution_count": 157,
     "metadata": {},
     "output_type": "execute_result"
    },
    {
     "data": {
      "image/png": "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\n",
      "text/plain": [
       "<Figure size 432x288 with 1 Axes>"
      ]
     },
     "metadata": {
      "needs_background": "light"
     },
     "output_type": "display_data"
    }
   ],
   "source": [
    "sns.histplot(data = df, x = 'Age', bins=np.arange(15, 55, 5), element=\"step\")"
   ]
  },
  {
   "cell_type": "code",
   "execution_count": 147,
   "id": "e985f612",
   "metadata": {
    "scrolled": true
   },
   "outputs": [
    {
     "data": {
      "text/plain": [
       "<AxesSubplot:xlabel='Age', ylabel='Count'>"
      ]
     },
     "execution_count": 147,
     "metadata": {},
     "output_type": "execute_result"
    },
    {
     "data": {
      "image/png": "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\n",
      "text/plain": [
       "<Figure size 432x288 with 1 Axes>"
      ]
     },
     "metadata": {
      "needs_background": "light"
     },
     "output_type": "display_data"
    }
   ],
   "source": [
    "sns.histplot(data = df, x = 'Age',hue = 'Product', bins=np.arange(15, 55, 5), element=\"step\")"
   ]
  },
  {
   "cell_type": "markdown",
   "id": "79852b14",
   "metadata": {},
   "source": [
    "### Usage and Miles Analysis"
   ]
  },
  {
   "cell_type": "code",
   "execution_count": 238,
   "id": "ba1ad298",
   "metadata": {},
   "outputs": [
    {
     "data": {
      "text/plain": [
       "<AxesSubplot:xlabel='Usage', ylabel='count'>"
      ]
     },
     "execution_count": 238,
     "metadata": {},
     "output_type": "execute_result"
    },
    {
     "data": {
      "image/png": "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\n",
      "text/plain": [
       "<Figure size 432x288 with 1 Axes>"
      ]
     },
     "metadata": {
      "needs_background": "light"
     },
     "output_type": "display_data"
    }
   ],
   "source": [
    "sns.countplot(data = df, x = 'Usage',hue = 'Product')"
   ]
  },
  {
   "cell_type": "code",
   "execution_count": 241,
   "id": "c8b32e75",
   "metadata": {},
   "outputs": [
    {
     "data": {
      "text/plain": [
       "<AxesSubplot:xlabel='Miles', ylabel='Count'>"
      ]
     },
     "execution_count": 241,
     "metadata": {},
     "output_type": "execute_result"
    },
    {
     "data": {
      "image/png": "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\n",
      "text/plain": [
       "<Figure size 432x288 with 1 Axes>"
      ]
     },
     "metadata": {
      "needs_background": "light"
     },
     "output_type": "display_data"
    }
   ],
   "source": [
    "sns.histplot(data = df, x = 'Miles',hue = 'Product', element=\"step\", bins = np.arange(50, 400, 50))"
   ]
  },
  {
   "cell_type": "code",
   "execution_count": null,
   "id": "e3db3a29",
   "metadata": {},
   "outputs": [],
   "source": []
  }
 ],
 "metadata": {
  "kernelspec": {
   "display_name": "Python 3 (ipykernel)",
   "language": "python",
   "name": "python3"
  },
  "language_info": {
   "codemirror_mode": {
    "name": "ipython",
    "version": 3
   },
   "file_extension": ".py",
   "mimetype": "text/x-python",
   "name": "python",
   "nbconvert_exporter": "python",
   "pygments_lexer": "ipython3",
   "version": "3.10.0"
  }
 },
 "nbformat": 4,
 "nbformat_minor": 5
}
